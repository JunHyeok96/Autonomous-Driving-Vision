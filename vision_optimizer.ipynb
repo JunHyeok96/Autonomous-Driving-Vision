{
 "cells": [
  {
   "cell_type": "code",
   "execution_count": null,
   "metadata": {},
   "outputs": [],
   "source": [
    "import numpy as np\n",
    "import cv2\n",
    "import matplotlib.pyplot as plt\n",
    "import math\n",
    "import tensorflow as tf\n",
    "import time\n",
    "from model.pspunet import pspunet\n",
    "from util.angle import *\n",
    "from util.depth import *\n",
    "from util.path import *\n",
    "from visualizer import *\n",
    "from util.object_dection import *\n",
    "\n",
    "gpus = tf.config.experimental.list_physical_devices('GPU')\n",
    "\n",
    "IMG_WIDTH = 480\n",
    "IMG_HEIGHT = 272\n",
    "n_classes = 7\n",
    "\n",
    "if gpus:\n",
    "    try:\n",
    "        tf.config.experimental.set_virtual_device_configuration(\n",
    "       gpus[0],\n",
    "        [tf.config.experimental.VirtualDeviceConfiguration(memory_limit=400)])\n",
    "    except RuntimeError as e:\n",
    "        print(e)\n",
    "        \n",
    "model = pspunet((IMG_HEIGHT, IMG_WIDTH ,3), n_classes)\n",
    "model.load_weights(\"pspunet_weight.h5\")\n",
    "\n",
    "ANGLE_CLASS = 15\n",
    "\n",
    "ANGLE = angle_dict(ANGLE_CLASS)\n",
    "\n",
    "data = np.load(\"video_data.npz\")\n",
    "data = data[\"arr_0\"]\n",
    "\n",
    "img = data[:,0,:,:,:]\n",
    "point_cloud = data[:,1,:,:,:]"
   ]
  },
  {
   "cell_type": "code",
   "execution_count": null,
   "metadata": {
    "scrolled": true
   },
   "outputs": [],
   "source": [
    "'''fourcc = cv2.VideoWriter_fourcc(*'DIVX')\n",
    "out = cv2.VideoWriter('yolo2.mp4', fourcc, 25.0, (480, 270))\n",
    "\n",
    "cap = cv2.VideoCapture(\"video.mp4\")\n",
    "while True:\n",
    "    start_time = time.time()\n",
    "    _, img = cap.read()\n",
    "    yolo_img, _ = YOLO(img.copy())\n",
    "    cv2.imshow(\"\",yolo_img)\n",
    "    cv2.waitKey(1)\n",
    "    out.write(yolo_img)\n",
    "    print(1/(time.time()-start_time))\n",
    "out.release()'''"
   ]
  },
  {
   "cell_type": "code",
   "execution_count": null,
   "metadata": {
    "scrolled": true
   },
   "outputs": [],
   "source": [
    "for i in range(500, 1101):\n",
    "    start = time.time()\n",
    "    visualize(model, img[i], point_cloud[i], 5, 2.5, ANGLE, ANGLE_CLASS)\n",
    "    plt.savefig('selly_vision_video/image_at_epoch_{:04d}.png'.format(i))\n",
    "    print(time.time() -start)"
   ]
  },
  {
   "cell_type": "code",
   "execution_count": null,
   "metadata": {
    "scrolled": false
   },
   "outputs": [],
   "source": [
    "i = 144\n",
    "visualize(model, img[i], point_cloud[i], 5, 2.5, ANGLE, ANGLE_CLASS)"
   ]
  },
  {
   "cell_type": "code",
   "execution_count": null,
   "metadata": {
    "scrolled": true
   },
   "outputs": [],
   "source": [
    "for i in range(500, 1101):\n",
    "    start = time.time()\n",
    "    plt.figure()\n",
    "    plt.imshow(RGB(selly_vision_img(model, img[i], point_cloud[i], 5, 2.5, ANGLE, ANGLE_CLASS))/255)\n",
    "    plt.savefig('selly_vision_video/image_at_epoch_{:04d}.png'.format(i))\n",
    "    print(time.time() -start)"
   ]
  },
  {
   "cell_type": "code",
   "execution_count": null,
   "metadata": {},
   "outputs": [],
   "source": [
    "start = time.time()\n",
    "selly_vision_img(model, img[i], point_cloud[i], 5, 2.5, ANGLE, ANGLE_CLASS)/255\n",
    "print(time.time() -start)"
   ]
  },
  {
   "cell_type": "code",
   "execution_count": null,
   "metadata": {
    "scrolled": true
   },
   "outputs": [],
   "source": [
    "#동영상 녹화\n",
    "import os \n",
    "\n",
    "vision_img_list = os.listdir(\"selly_vision_video/\")\n",
    "\n",
    "max_dist = 5\n",
    "fourcc = cv2.VideoWriter_fourcc(*'DIVX')\n",
    "out = cv2.VideoWriter('selly_vision2.mp4', fourcc, 10.0, (480, 270))\n",
    "vision_img_list.sort()\n",
    "for idx in range(1101):\n",
    "    start_time = time.time()\n",
    "    vision_img = cv2.imread(\"selly_vision_video/\"+vision_img_list[idx])\n",
    "    out.write(vision_img)\n",
    "    print(time.time()-start_time)\n",
    "    \n",
    "out.release()"
   ]
  },
  {
   "cell_type": "code",
   "execution_count": null,
   "metadata": {},
   "outputs": [],
   "source": [
    "out.release()\n"
   ]
  },
  {
   "cell_type": "code",
   "execution_count": null,
   "metadata": {},
   "outputs": [],
   "source": []
  }
 ],
 "metadata": {
  "kernelspec": {
   "display_name": "tensorflow2",
   "language": "python",
   "name": "tf2"
  },
  "language_info": {
   "codemirror_mode": {
    "name": "ipython",
    "version": 3
   },
   "file_extension": ".py",
   "mimetype": "text/x-python",
   "name": "python",
   "nbconvert_exporter": "python",
   "pygments_lexer": "ipython3",
   "version": "3.7.7"
  }
 },
 "nbformat": 4,
 "nbformat_minor": 4
}
